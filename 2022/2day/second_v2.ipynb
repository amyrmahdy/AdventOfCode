{
 "cells": [
  {
   "cell_type": "code",
   "execution_count": 9,
   "metadata": {},
   "outputs": [],
   "source": [
    "with open(\"input_test_first.txt\", \"r\") as f:\n",
    "    inp_test = f.read()\n",
    "\n",
    "with open(\"input_first.txt\", \"r\") as f:\n",
    "    inp = f.read()\n"
   ]
  },
  {
   "cell_type": "code",
   "execution_count": 10,
   "metadata": {},
   "outputs": [],
   "source": [
    "def total_calculator(inp):\n",
    "    splited = inp.split(\"\\n\")\n",
    "    rounds = [''.join(x.split()) for x in splited]\n",
    "    score = 0\n",
    "    map_score = {\n",
    "        'AX' : (3+0),\n",
    "        'AY' : (1+3),\n",
    "        'AZ' : (2+6),\n",
    "        'BX' : (1+0),\n",
    "        'BY' : (2+3),\n",
    "        'BZ' : (3+6),\n",
    "        'CX' : (2+0),\n",
    "        'CY' : (3+3),\n",
    "        'CZ' : (1+6)\n",
    "    }\n",
    "    for round in rounds:\n",
    "        score += map_score[round]\n",
    "    return score"
   ]
  },
  {
   "cell_type": "code",
   "execution_count": 11,
   "metadata": {},
   "outputs": [
    {
     "name": "stdout",
     "output_type": "stream",
     "text": [
      "asnwer for second part is 13131\n"
     ]
    }
   ],
   "source": [
    "print(f\"asnwer for second part is {total_calculator(inp)}\")"
   ]
  }
 ],
 "metadata": {
  "kernelspec": {
   "display_name": "Python 3.10.6 64-bit",
   "language": "python",
   "name": "python3"
  },
  "language_info": {
   "codemirror_mode": {
    "name": "ipython",
    "version": 3
   },
   "file_extension": ".py",
   "mimetype": "text/x-python",
   "name": "python",
   "nbconvert_exporter": "python",
   "pygments_lexer": "ipython3",
   "version": "3.10.6"
  },
  "orig_nbformat": 4,
  "vscode": {
   "interpreter": {
    "hash": "916dbcbb3f70747c44a77c7bcd40155683ae19c65e1c03b4aa3499c5328201f1"
   }
  }
 },
 "nbformat": 4,
 "nbformat_minor": 2
}
