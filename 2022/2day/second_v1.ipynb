{
 "cells": [
  {
   "cell_type": "code",
   "execution_count": 1,
   "metadata": {},
   "outputs": [],
   "source": [
    "with open(\"input_test_first.txt\", \"r\") as f:\n",
    "    inp_test = f.read()\n",
    "\n",
    "with open(\"input_first.txt\", \"r\") as f:\n",
    "    inp = f.read()\n"
   ]
  },
  {
   "cell_type": "code",
   "execution_count": 2,
   "metadata": {},
   "outputs": [],
   "source": [
    "def total_calculator(inp):\n",
    "   splited = inp.split(\"\\n\")\n",
    "   rounds = [x.split() for x in splited]\n",
    "   scores = []\n",
    "   dict_desicion = {\n",
    "    \"A\" : 1,\n",
    "    \"B\" : 2,\n",
    "    \"C\" : 3\n",
    "}\n",
    "   end_round = {\n",
    "    \"X\" : 0,\n",
    "    \"Y\" : 3,\n",
    "    \"Z\" : 6\n",
    "}\n",
    "   for round in rounds:\n",
    "      score = 0\n",
    "      oponnent = round[0]\n",
    "      result = round[1]\n",
    "      score += end_round[result]\n",
    "      if result == \"X\":\n",
    "         if oponnent == \"A\":\n",
    "            score += dict_desicion[\"C\"]\n",
    "         elif oponnent == \"B\":\n",
    "            score += dict_desicion[\"A\"]\n",
    "         elif oponnent == \"C\":\n",
    "            score += dict_desicion[\"B\"]\n",
    "\n",
    "      elif result == \"Y\":\n",
    "         if oponnent == \"A\":\n",
    "            score += dict_desicion[\"A\"]\n",
    "         elif oponnent == \"B\":\n",
    "            score += dict_desicion[\"B\"]\n",
    "         elif oponnent == \"C\":\n",
    "            score += dict_desicion[\"C\"]\n",
    "\n",
    "      elif result == \"Z\":\n",
    "         if oponnent == \"A\":\n",
    "            score += dict_desicion[\"B\"]\n",
    "         elif oponnent == \"B\":\n",
    "            score += dict_desicion[\"C\"]\n",
    "         elif oponnent == \"C\":\n",
    "            score += dict_desicion[\"A\"]\n",
    "\n",
    "      scores.append(score)\n",
    "          \n",
    "   return sum(scores)"
   ]
  },
  {
   "cell_type": "code",
   "execution_count": 3,
   "metadata": {},
   "outputs": [
    {
     "name": "stdout",
     "output_type": "stream",
     "text": [
      "asnwer for second part is 13131\n"
     ]
    }
   ],
   "source": [
    "print(f\"asnwer for second part is {total_calculator(inp)}\")"
   ]
  }
 ],
 "metadata": {
  "kernelspec": {
   "display_name": "Python 3.10.6 64-bit",
   "language": "python",
   "name": "python3"
  },
  "language_info": {
   "codemirror_mode": {
    "name": "ipython",
    "version": 3
   },
   "file_extension": ".py",
   "mimetype": "text/x-python",
   "name": "python",
   "nbconvert_exporter": "python",
   "pygments_lexer": "ipython3",
   "version": "3.10.6"
  },
  "orig_nbformat": 4,
  "vscode": {
   "interpreter": {
    "hash": "916dbcbb3f70747c44a77c7bcd40155683ae19c65e1c03b4aa3499c5328201f1"
   }
  }
 },
 "nbformat": 4,
 "nbformat_minor": 2
}
