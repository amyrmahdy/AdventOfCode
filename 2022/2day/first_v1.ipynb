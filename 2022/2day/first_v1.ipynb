{
 "cells": [
  {
   "cell_type": "code",
   "execution_count": 9,
   "metadata": {},
   "outputs": [],
   "source": [
    "with open(\"input_test_first.txt\", \"r\") as f:\n",
    "    inp_test = f.read()\n",
    "\n",
    "with open(\"input_first.txt\", \"r\") as f:\n",
    "    inp = f.read()"
   ]
  },
  {
   "cell_type": "code",
   "execution_count": 10,
   "metadata": {},
   "outputs": [],
   "source": [
    "def total_calculator(inp):\n",
    "    splited = inp.split(\"\\n\")\n",
    "    rounds = [x.split() for x in splited]\n",
    "    scores = []\n",
    "    my_desicion = {\n",
    "    \"X\" : 1,\n",
    "    \"Y\" : 2,\n",
    "    \"Z\" : 3\n",
    "    }\n",
    "    for round in rounds:\n",
    "        score = 0\n",
    "        oponnent = round[0]\n",
    "        me = round[1]\n",
    "        score += my_desicion[me] \n",
    "        if (oponnent == \"A\") and ( me == \"X\"):\n",
    "            score += 3\n",
    "        elif (oponnent == \"A\") and ( me == \"Y\"):\n",
    "            score += 6\n",
    "        elif (oponnent == \"A\") and ( me == \"Z\"):\n",
    "            score += 0\n",
    "        elif (oponnent == \"B\") and ( me == \"X\"):\n",
    "            score += 0\n",
    "        elif (oponnent == \"B\") and ( me == \"Y\"):\n",
    "            score += 3\n",
    "        elif (oponnent == \"B\") and ( me == \"Z\"):\n",
    "            score += 6\n",
    "        elif (oponnent == \"C\") and ( me == \"X\"):\n",
    "            score += 6\n",
    "        elif (oponnent == \"C\") and ( me == \"Y\"):\n",
    "            score += 0\n",
    "        elif (oponnent == \"C\") and ( me == \"Z\"):\n",
    "            score += 3\n",
    "        scores.append(score)\n",
    "\n",
    "\n",
    "    return sum(scores)"
   ]
  },
  {
   "cell_type": "code",
   "execution_count": 11,
   "metadata": {},
   "outputs": [
    {
     "name": "stdout",
     "output_type": "stream",
     "text": [
      "asnwer for first part is 13221\n"
     ]
    }
   ],
   "source": [
    "print(f\"asnwer for first part is {total_calculator(inp)}\")"
   ]
  },
  {
   "cell_type": "code",
   "execution_count": null,
   "metadata": {},
   "outputs": [],
   "source": []
  }
 ],
 "metadata": {
  "kernelspec": {
   "display_name": "Python 3.10.6 64-bit",
   "language": "python",
   "name": "python3"
  },
  "language_info": {
   "codemirror_mode": {
    "name": "ipython",
    "version": 3
   },
   "file_extension": ".py",
   "mimetype": "text/x-python",
   "name": "python",
   "nbconvert_exporter": "python",
   "pygments_lexer": "ipython3",
   "version": "3.10.6"
  },
  "orig_nbformat": 4,
  "vscode": {
   "interpreter": {
    "hash": "916dbcbb3f70747c44a77c7bcd40155683ae19c65e1c03b4aa3499c5328201f1"
   }
  }
 },
 "nbformat": 4,
 "nbformat_minor": 2
}
