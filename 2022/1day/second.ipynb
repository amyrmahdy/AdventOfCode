{
 "cells": [
  {
   "cell_type": "code",
   "execution_count": 14,
   "metadata": {},
   "outputs": [],
   "source": [
    "# with open(\"input_first_test.txt\", \"r+\") as f:\n",
    "#     inp = f.read()\n",
    "\n",
    "with open(\"input_first.txt\", \"r+\") as f:\n",
    "    inp = f.read()"
   ]
  },
  {
   "cell_type": "code",
   "execution_count": 18,
   "metadata": {},
   "outputs": [],
   "source": [
    "def find_top_3(inp):\n",
    "    calories = inp.split(\"\\n\\n\")\n",
    "    totals = []\n",
    "    for x in calories:\n",
    "        serie = x.split()\n",
    "        total = 0\n",
    "        for y in serie:\n",
    "            total += int(y)\n",
    "        # print(total)\n",
    "        totals.append(total)\n",
    "    sorted_totals = sorted(totals,reverse=True)\n",
    "    return sum(sorted_totals[0:3])"
   ]
  },
  {
   "cell_type": "code",
   "execution_count": 19,
   "metadata": {},
   "outputs": [
    {
     "name": "stdout",
     "output_type": "stream",
     "text": [
      "sum of top 3 total calorie is 213159\n"
     ]
    }
   ],
   "source": [
    "print(f\"sum of top 3 total calories is {find_top_3(inp)}\")"
   ]
  },
  {
   "cell_type": "code",
   "execution_count": null,
   "metadata": {},
   "outputs": [],
   "source": []
  }
 ],
 "metadata": {
  "kernelspec": {
   "display_name": "Python 3.10.6 64-bit",
   "language": "python",
   "name": "python3"
  },
  "language_info": {
   "codemirror_mode": {
    "name": "ipython",
    "version": 3
   },
   "file_extension": ".py",
   "mimetype": "text/x-python",
   "name": "python",
   "nbconvert_exporter": "python",
   "pygments_lexer": "ipython3",
   "version": "3.10.6"
  },
  "orig_nbformat": 4,
  "vscode": {
   "interpreter": {
    "hash": "916dbcbb3f70747c44a77c7bcd40155683ae19c65e1c03b4aa3499c5328201f1"
   }
  }
 },
 "nbformat": 4,
 "nbformat_minor": 2
}
