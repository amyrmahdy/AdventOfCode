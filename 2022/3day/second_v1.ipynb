{
 "cells": [
  {
   "cell_type": "code",
   "execution_count": 1,
   "metadata": {},
   "outputs": [],
   "source": [
    "with open(\"input_test_second.txt\", \"r\") as f:\n",
    "    inp_t = [x.strip() for x in f]"
   ]
  },
  {
   "cell_type": "code",
   "execution_count": 3,
   "metadata": {},
   "outputs": [],
   "source": [
    "def rucksack_priority(lines):\n",
    "    a = set(lines[0])\n",
    "    b = set(lines[1])\n",
    "    c = set(lines[2])\n",
    "    intersection = a.intersection(b).intersection(c).pop()\n",
    "    if intersection.isupper():\n",
    "        result = ord(intersection) - 38\n",
    "    else:\n",
    "        result = ord(intersection) - 96\n",
    "    return result"
   ]
  },
  {
   "cell_type": "code",
   "execution_count": 5,
   "metadata": {},
   "outputs": [],
   "source": [
    "assert rucksack_priority(inp_t[0:3]) == 18\n",
    "assert rucksack_priority(inp_t[3:]) == 52"
   ]
  },
  {
   "cell_type": "code",
   "execution_count": 7,
   "metadata": {},
   "outputs": [],
   "source": [
    "with open(\"input_second.txt\", \"r\") as f:\n",
    "    inp = [x.strip() for x in f]"
   ]
  },
  {
   "cell_type": "code",
   "execution_count": 11,
   "metadata": {},
   "outputs": [
    {
     "name": "stdout",
     "output_type": "stream",
     "text": [
      "sum of the priorities: 2488\n"
     ]
    }
   ],
   "source": [
    "total = 0\n",
    "for i in range(0,len(inp),3):\n",
    "    total += rucksack_priority(inp[i:i+3])\n",
    "print(f\"sum of the priorities: {total}\")"
   ]
  },
  {
   "cell_type": "code",
   "execution_count": null,
   "metadata": {},
   "outputs": [],
   "source": []
  }
 ],
 "metadata": {
  "kernelspec": {
   "display_name": "Python 3.10.6 64-bit",
   "language": "python",
   "name": "python3"
  },
  "language_info": {
   "codemirror_mode": {
    "name": "ipython",
    "version": 3
   },
   "file_extension": ".py",
   "mimetype": "text/x-python",
   "name": "python",
   "nbconvert_exporter": "python",
   "pygments_lexer": "ipython3",
   "version": "3.10.6"
  },
  "orig_nbformat": 4,
  "vscode": {
   "interpreter": {
    "hash": "916dbcbb3f70747c44a77c7bcd40155683ae19c65e1c03b4aa3499c5328201f1"
   }
  }
 },
 "nbformat": 4,
 "nbformat_minor": 2
}
