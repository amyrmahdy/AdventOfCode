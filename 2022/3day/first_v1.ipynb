{
 "cells": [
  {
   "cell_type": "code",
   "execution_count": 69,
   "metadata": {},
   "outputs": [],
   "source": [
    "with open(\"input_test_first.txt\", \"r\") as f:\n",
    "    inp_t = [x.strip() for x in f]"
   ]
  },
  {
   "cell_type": "code",
   "execution_count": 70,
   "metadata": {},
   "outputs": [],
   "source": [
    "def rucksack_priority(line):\n",
    "    a = set(line[(len(line)//2):])\n",
    "    b = set(line[0:(len(line)//2)])\n",
    "    intersection = a.intersection(b).pop()\n",
    "    if intersection.isupper():\n",
    "        result = ord(intersection) - 38\n",
    "    else:\n",
    "        result = ord(intersection) - 96\n",
    "    return result"
   ]
  },
  {
   "cell_type": "code",
   "execution_count": 71,
   "metadata": {},
   "outputs": [],
   "source": [
    "assert rucksack_priority(inp_t[0]) == 16\n",
    "assert rucksack_priority(inp_t[1]) == 38\n",
    "assert rucksack_priority(inp_t[2]) == 42\n",
    "assert rucksack_priority(inp_t[3]) == 22\n",
    "assert rucksack_priority(inp_t[4]) == 20\n",
    "assert rucksack_priority(inp_t[5]) == 19"
   ]
  },
  {
   "cell_type": "code",
   "execution_count": 72,
   "metadata": {},
   "outputs": [],
   "source": [
    "with open(\"input_first.txt\", \"r\") as f:\n",
    "    inp = [x.strip() for x in f]"
   ]
  },
  {
   "cell_type": "code",
   "execution_count": 73,
   "metadata": {},
   "outputs": [
    {
     "name": "stdout",
     "output_type": "stream",
     "text": [
      "sum of the priorities: 7863\n"
     ]
    }
   ],
   "source": [
    "total = 0\n",
    "for element in inp:\n",
    "    total += rucksack_priority(element)\n",
    "print(f\"sum of the priorities: {total}\")"
   ]
  },
  {
   "cell_type": "code",
   "execution_count": null,
   "metadata": {},
   "outputs": [],
   "source": []
  }
 ],
 "metadata": {
  "kernelspec": {
   "display_name": "Python 3.10.6 64-bit",
   "language": "python",
   "name": "python3"
  },
  "language_info": {
   "codemirror_mode": {
    "name": "ipython",
    "version": 3
   },
   "file_extension": ".py",
   "mimetype": "text/x-python",
   "name": "python",
   "nbconvert_exporter": "python",
   "pygments_lexer": "ipython3",
   "version": "3.10.6"
  },
  "orig_nbformat": 4,
  "vscode": {
   "interpreter": {
    "hash": "916dbcbb3f70747c44a77c7bcd40155683ae19c65e1c03b4aa3499c5328201f1"
   }
  }
 },
 "nbformat": 4,
 "nbformat_minor": 2
}
