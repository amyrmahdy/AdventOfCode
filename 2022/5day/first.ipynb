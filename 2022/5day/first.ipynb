{
 "cells": [
  {
   "cell_type": "code",
   "execution_count": 104,
   "metadata": {},
   "outputs": [],
   "source": [
    "with open(\"test_input_first.txt\", \"r\") as f:\n",
    "    inp_test = f.read()"
   ]
  },
  {
   "cell_type": "code",
   "execution_count": 123,
   "metadata": {},
   "outputs": [],
   "source": [
    "with open(\"input_first.txt\", \"r\") as f:\n",
    "    inp = f.read()"
   ]
  },
  {
   "cell_type": "code",
   "execution_count": 125,
   "metadata": {},
   "outputs": [],
   "source": [
    "def crates(inp,end):\n",
    "    situation, instruction  = inp.split(\"\\n\\n\")\n",
    "\n",
    "    j_to_key = {\n",
    "         2 : 1,\n",
    "         6 : 2,\n",
    "        10 : 3,\n",
    "        14 : 4,\n",
    "        18 : 5,\n",
    "        22 : 6,\n",
    "        26 : 7,\n",
    "        30 : 8,\n",
    "        34 : 9\n",
    "    }\n",
    "    map_crates = {}\n",
    "    for i in range(1,end):\n",
    "        map_crates[i] = []\n",
    "    for i in situation.split(\"\\n\"):\n",
    "        line = list(repr(i))\n",
    "        for j in range(2,len(line),4):\n",
    "            order = ord(line[j])\n",
    "            if order > 57:\n",
    "                map_crates[j_to_key[j]].append(line[j])\n",
    "\n",
    "    for key in map_crates:\n",
    "        map_crates[key].reverse()\n",
    "    instruction = instruction.split()\n",
    "    instruction_decoded = []\n",
    "    for i in range(1, len(instruction),6):\n",
    "        instruction_decoded.append([int(instruction[i]),int(instruction[i+2]),int(instruction[i+4])])\n",
    "    for i in instruction_decoded:\n",
    "        count = i[0]\n",
    "        from_stack = i[1]\n",
    "        to_stack = i[2]\n",
    "        \n",
    "        for i in range(count):\n",
    "            map_crates[to_stack].append( map_crates[from_stack].pop(-1))\n",
    "\n",
    "    result = ''\n",
    "    for i in range(1,end):\n",
    "        result += str(map_crates[i][-1])\n",
    "    return result"
   ]
  },
  {
   "cell_type": "code",
   "execution_count": 126,
   "metadata": {},
   "outputs": [
    {
     "name": "stdout",
     "output_type": "stream",
     "text": [
      "crates ends up on top of each stack : SHQWSRBDL\n"
     ]
    }
   ],
   "source": [
    "assert crates(inp_test,4) == \"CMZ\"\n",
    "print(f\"crates ends up on top of each stack : {crates(inp,10)}\")"
   ]
  },
  {
   "cell_type": "code",
   "execution_count": 118,
   "metadata": {},
   "outputs": [],
   "source": []
  },
  {
   "cell_type": "code",
   "execution_count": 119,
   "metadata": {},
   "outputs": [
    {
     "data": {
      "text/plain": [
       "'CMZ'"
      ]
     },
     "execution_count": 119,
     "metadata": {},
     "output_type": "execute_result"
    }
   ],
   "source": []
  },
  {
   "cell_type": "code",
   "execution_count": null,
   "metadata": {},
   "outputs": [],
   "source": []
  }
 ],
 "metadata": {
  "kernelspec": {
   "display_name": "Python 3.10.6 64-bit",
   "language": "python",
   "name": "python3"
  },
  "language_info": {
   "codemirror_mode": {
    "name": "ipython",
    "version": 3
   },
   "file_extension": ".py",
   "mimetype": "text/x-python",
   "name": "python",
   "nbconvert_exporter": "python",
   "pygments_lexer": "ipython3",
   "version": "3.10.6"
  },
  "orig_nbformat": 4,
  "vscode": {
   "interpreter": {
    "hash": "916dbcbb3f70747c44a77c7bcd40155683ae19c65e1c03b4aa3499c5328201f1"
   }
  }
 },
 "nbformat": 4,
 "nbformat_minor": 2
}
