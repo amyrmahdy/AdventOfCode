{
 "cells": [
  {
   "cell_type": "code",
   "execution_count": 37,
   "metadata": {},
   "outputs": [],
   "source": [
    "with(open(\"input_test_first.txt\", \"r\")) as f:\n",
    "    inp_test = f.read().split(\"\\n\")"
   ]
  },
  {
   "cell_type": "code",
   "execution_count": 41,
   "metadata": {},
   "outputs": [],
   "source": [
    "with(open(\"input_first.txt\", \"r\")) as f:\n",
    "    inp = f.read().split(\"\\n\")"
   ]
  },
  {
   "cell_type": "code",
   "execution_count": 38,
   "metadata": {},
   "outputs": [],
   "source": [
    "def find_count_contains(inp):\n",
    "    inp_clean = []\n",
    "    for i in inp:\n",
    "        for j in i.split(\",\"):\n",
    "            tmp = [int(k) for k in j.split(\"-\")]\n",
    "            inp_clean.append(tmp)\n",
    "    count_contains = 0\n",
    "    for i in range(0,len(inp_clean)-1,2):\n",
    "        len_a = inp_clean[i][1] - inp_clean[i][0] + 1\n",
    "        len_b = inp_clean[i+1][1] - inp_clean[i+1][0] + 1\n",
    "        if len_a >= len_b:\n",
    "            if ( ( inp_clean[i][0] - inp_clean[i+1][0] ) <= 0 ) and  ( ( inp_clean[i][1] - inp_clean[i+1][1] ) >= 0 ):\n",
    "                count_contains += 1\n",
    "        else:\n",
    "            if ( ( inp_clean[i+1][0] - inp_clean[i][0] ) <= 0 ) and  ( ( inp_clean[i+1][1] - inp_clean[i][1] ) >= 0 ):\n",
    "                count_contains += 1\n",
    "    return count_contains\n",
    "\n"
   ]
  },
  {
   "cell_type": "code",
   "execution_count": 39,
   "metadata": {},
   "outputs": [],
   "source": [
    "assert find_count_contains(inp_test) == 2"
   ]
  },
  {
   "cell_type": "code",
   "execution_count": 42,
   "metadata": {},
   "outputs": [
    {
     "name": "stdout",
     "output_type": "stream",
     "text": [
      "number of pairs that contains each other 518 \n"
     ]
    }
   ],
   "source": [
    "print(f\"number of pairs that contains each other {find_count_contains(inp)} \")"
   ]
  },
  {
   "cell_type": "code",
   "execution_count": null,
   "metadata": {},
   "outputs": [],
   "source": []
  }
 ],
 "metadata": {
  "kernelspec": {
   "display_name": "Python 3.10.6 64-bit",
   "language": "python",
   "name": "python3"
  },
  "language_info": {
   "codemirror_mode": {
    "name": "ipython",
    "version": 3
   },
   "file_extension": ".py",
   "mimetype": "text/x-python",
   "name": "python",
   "nbconvert_exporter": "python",
   "pygments_lexer": "ipython3",
   "version": "3.10.6"
  },
  "orig_nbformat": 4,
  "vscode": {
   "interpreter": {
    "hash": "916dbcbb3f70747c44a77c7bcd40155683ae19c65e1c03b4aa3499c5328201f1"
   }
  }
 },
 "nbformat": 4,
 "nbformat_minor": 2
}
