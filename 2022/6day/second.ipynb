{
 "cells": [
  {
   "cell_type": "code",
   "execution_count": 1,
   "metadata": {},
   "outputs": [],
   "source": [
    "with open(\"input_test_first.txt\", \"r\") as f:\n",
    "    inp_test = [s.strip() for s in f.read().split()]"
   ]
  },
  {
   "cell_type": "code",
   "execution_count": 2,
   "metadata": {},
   "outputs": [
    {
     "data": {
      "text/plain": [
       "['bvwbjplbgvbhsrlpgdmjqwftvncz',\n",
       " 'nppdvjthqldpwncqszvftbrmjlhg',\n",
       " 'nznrnfrfntjfmvfwmzdfjlvtqnbhcprsg',\n",
       " 'zcfzfwzzqfrljwzlrfnpqdbhtmscgvjw']"
      ]
     },
     "execution_count": 2,
     "metadata": {},
     "output_type": "execute_result"
    }
   ],
   "source": [
    "inp_test"
   ]
  },
  {
   "cell_type": "code",
   "execution_count": 40,
   "metadata": {},
   "outputs": [],
   "source": [
    "with open(\"input_first.txt\", \"r\") as f:\n",
    "    inp = f.read()"
   ]
  },
  {
   "cell_type": "code",
   "execution_count": 38,
   "metadata": {},
   "outputs": [],
   "source": [
    "def signal_marker(signal):\n",
    "    for i in range(len(signal)):\n",
    "        temp = set(signal[i:i+14])\n",
    "        if len(temp) == 14:\n",
    "            return i+14"
   ]
  },
  {
   "cell_type": "code",
   "execution_count": 41,
   "metadata": {},
   "outputs": [
    {
     "name": "stdout",
     "output_type": "stream",
     "text": [
      "result 1287\n"
     ]
    }
   ],
   "source": [
    "assert signal_marker(inp_test[0]) == 23\n",
    "assert signal_marker(inp_test[1]) == 23\n",
    "assert signal_marker(inp_test[2]) == 29\n",
    "assert signal_marker(inp_test[3]) == 26\n",
    "print(f\"result {signal_marker(inp)}\")"
   ]
  },
  {
   "cell_type": "code",
   "execution_count": null,
   "metadata": {},
   "outputs": [],
   "source": []
  }
 ],
 "metadata": {
  "kernelspec": {
   "display_name": "Python 3",
   "language": "python",
   "name": "python3"
  },
  "language_info": {
   "codemirror_mode": {
    "name": "ipython",
    "version": 3
   },
   "file_extension": ".py",
   "mimetype": "text/x-python",
   "name": "python",
   "nbconvert_exporter": "python",
   "pygments_lexer": "ipython3",
   "version": "3.10.6"
  },
  "orig_nbformat": 4,
  "vscode": {
   "interpreter": {
    "hash": "916dbcbb3f70747c44a77c7bcd40155683ae19c65e1c03b4aa3499c5328201f1"
   }
  }
 },
 "nbformat": 4,
 "nbformat_minor": 2
}
